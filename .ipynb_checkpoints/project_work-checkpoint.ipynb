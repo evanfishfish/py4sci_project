{
 "cells": [
  {
   "cell_type": "code",
   "execution_count": 1,
   "id": "bce5b02b-971a-4be8-85de-713dc4eb2a45",
   "metadata": {},
   "outputs": [],
   "source": [
    "import numpy as np\n",
    "import pandas as pd\n",
    "import time\n",
    "import smipoly.smip \n",
    "from smipoly.smip import monc, polg"
   ]
  },
  {
   "cell_type": "code",
   "execution_count": 2,
   "id": "f1210025-8fd4-429b-b1db-360f26157ddb",
   "metadata": {},
   "outputs": [],
   "source": [
    "#for display the structure\n",
    "import random\n",
    "from rdkit import Chem\n",
    "from rdkit.Chem import Draw"
   ]
  },
  {
   "cell_type": "code",
   "execution_count": 3,
   "id": "317a84a2-a4e7-4669-ba97-116eae59fb12",
   "metadata": {},
   "outputs": [
    {
     "data": {
      "text/html": [
       "<div>\n",
       "<style scoped>\n",
       "    .dataframe tbody tr th:only-of-type {\n",
       "        vertical-align: middle;\n",
       "    }\n",
       "\n",
       "    .dataframe tbody tr th {\n",
       "        vertical-align: top;\n",
       "    }\n",
       "\n",
       "    .dataframe thead th {\n",
       "        text-align: right;\n",
       "    }\n",
       "</style>\n",
       "<table border=\"1\" class=\"dataframe\">\n",
       "  <thead>\n",
       "    <tr style=\"text-align: right;\">\n",
       "      <th></th>\n",
       "      <th>comID</th>\n",
       "      <th>MolecularFormula</th>\n",
       "      <th>MolecularWeight</th>\n",
       "      <th>SMILES</th>\n",
       "      <th>IUPACName</th>\n",
       "    </tr>\n",
       "  </thead>\n",
       "  <tbody>\n",
       "    <tr>\n",
       "      <th>0</th>\n",
       "      <td>CID174</td>\n",
       "      <td>C2H6O2</td>\n",
       "      <td>62.07</td>\n",
       "      <td>C(CO)O</td>\n",
       "      <td>ethane-1,2-diol</td>\n",
       "    </tr>\n",
       "    <tr>\n",
       "      <th>1</th>\n",
       "      <td>CID196</td>\n",
       "      <td>C6H10O4</td>\n",
       "      <td>146.14</td>\n",
       "      <td>C(CCC(=O)O)CC(=O)O</td>\n",
       "      <td>hexanedioic acid</td>\n",
       "    </tr>\n",
       "    <tr>\n",
       "      <th>2</th>\n",
       "      <td>CID262</td>\n",
       "      <td>C4H10O2</td>\n",
       "      <td>90.12</td>\n",
       "      <td>CC(C(C)O)O</td>\n",
       "      <td>butane-2,3-diol</td>\n",
       "    </tr>\n",
       "    <tr>\n",
       "      <th>3</th>\n",
       "      <td>CID273</td>\n",
       "      <td>C5H14N2</td>\n",
       "      <td>102.18</td>\n",
       "      <td>C(CCN)CCN</td>\n",
       "      <td>pentane-1,5-diamine</td>\n",
       "    </tr>\n",
       "    <tr>\n",
       "      <th>4</th>\n",
       "      <td>CID371</td>\n",
       "      <td>C4H2O4</td>\n",
       "      <td>114.06</td>\n",
       "      <td>C(#CC(=O)O)C(=O)O</td>\n",
       "      <td>but-2-ynedioic acid</td>\n",
       "    </tr>\n",
       "    <tr>\n",
       "      <th>...</th>\n",
       "      <td>...</td>\n",
       "      <td>...</td>\n",
       "      <td>...</td>\n",
       "      <td>...</td>\n",
       "      <td>...</td>\n",
       "    </tr>\n",
       "    <tr>\n",
       "      <th>1078</th>\n",
       "      <td>CID91972128</td>\n",
       "      <td>C22H10N4</td>\n",
       "      <td>330.30</td>\n",
       "      <td>C=CC1=CC2=C(C=C1)C(=C(C#N)C#N)C3=CC=CC=C3C2=C(...</td>\n",
       "      <td>2-[10-(dicyanomethylidene)-3-ethenylanthracen-...</td>\n",
       "    </tr>\n",
       "    <tr>\n",
       "      <th>1079</th>\n",
       "      <td>CID102529357</td>\n",
       "      <td>C14H30O5Si</td>\n",
       "      <td>306.47</td>\n",
       "      <td>CO[Si](CCCCCCCCOCC1CO1)(OC)OC</td>\n",
       "      <td>trimethoxy-[8-(oxiran-2-ylmethoxy)octyl]silane</td>\n",
       "    </tr>\n",
       "    <tr>\n",
       "      <th>1080</th>\n",
       "      <td>CID125370311</td>\n",
       "      <td>C15H24O2Si</td>\n",
       "      <td>264.43</td>\n",
       "      <td>C=CC[Si](CCCOC(=O)C=C)(CC=C)CC=C</td>\n",
       "      <td>3-tris(prop-2-enyl)silylpropyl prop-2-enoate</td>\n",
       "    </tr>\n",
       "    <tr>\n",
       "      <th>1081</th>\n",
       "      <td>CID125401955</td>\n",
       "      <td>C16H26O2Si</td>\n",
       "      <td>278.46</td>\n",
       "      <td>CC(=C)C(=O)OCCC[Si](CC=C)(CC=C)CC=C</td>\n",
       "      <td>3-tris(prop-2-enyl)silylpropyl 2-methylprop-2-...</td>\n",
       "    </tr>\n",
       "    <tr>\n",
       "      <th>1082</th>\n",
       "      <td>CID138112368</td>\n",
       "      <td>C14H24F6N2O6S2+</td>\n",
       "      <td>494.50</td>\n",
       "      <td>CCCC[N+](C)(C)CCOC(=O)C(=C)C.C(F)(F)(F)S(=O)(=...</td>\n",
       "      <td>butyl-dimethyl-[2-(2-methylprop-2-enoyloxy)eth...</td>\n",
       "    </tr>\n",
       "  </tbody>\n",
       "</table>\n",
       "<p>1083 rows × 5 columns</p>\n",
       "</div>"
      ],
      "text/plain": [
       "             comID MolecularFormula  MolecularWeight  \\\n",
       "0           CID174           C2H6O2            62.07   \n",
       "1           CID196          C6H10O4           146.14   \n",
       "2           CID262          C4H10O2            90.12   \n",
       "3           CID273          C5H14N2           102.18   \n",
       "4           CID371           C4H2O4           114.06   \n",
       "...            ...              ...              ...   \n",
       "1078   CID91972128         C22H10N4           330.30   \n",
       "1079  CID102529357       C14H30O5Si           306.47   \n",
       "1080  CID125370311       C15H24O2Si           264.43   \n",
       "1081  CID125401955       C16H26O2Si           278.46   \n",
       "1082  CID138112368  C14H24F6N2O6S2+           494.50   \n",
       "\n",
       "                                                 SMILES  \\\n",
       "0                                                C(CO)O   \n",
       "1                                    C(CCC(=O)O)CC(=O)O   \n",
       "2                                            CC(C(C)O)O   \n",
       "3                                             C(CCN)CCN   \n",
       "4                                     C(#CC(=O)O)C(=O)O   \n",
       "...                                                 ...   \n",
       "1078  C=CC1=CC2=C(C=C1)C(=C(C#N)C#N)C3=CC=CC=C3C2=C(...   \n",
       "1079                      CO[Si](CCCCCCCCOCC1CO1)(OC)OC   \n",
       "1080                   C=CC[Si](CCCOC(=O)C=C)(CC=C)CC=C   \n",
       "1081                CC(=C)C(=O)OCCC[Si](CC=C)(CC=C)CC=C   \n",
       "1082  CCCC[N+](C)(C)CCOC(=O)C(=C)C.C(F)(F)(F)S(=O)(=...   \n",
       "\n",
       "                                              IUPACName  \n",
       "0                                       ethane-1,2-diol  \n",
       "1                                      hexanedioic acid  \n",
       "2                                       butane-2,3-diol  \n",
       "3                                   pentane-1,5-diamine  \n",
       "4                                   but-2-ynedioic acid  \n",
       "...                                                 ...  \n",
       "1078  2-[10-(dicyanomethylidene)-3-ethenylanthracen-...  \n",
       "1079     trimethoxy-[8-(oxiran-2-ylmethoxy)octyl]silane  \n",
       "1080       3-tris(prop-2-enyl)silylpropyl prop-2-enoate  \n",
       "1081  3-tris(prop-2-enyl)silylpropyl 2-methylprop-2-...  \n",
       "1082  butyl-dimethyl-[2-(2-methylprop-2-enoyloxy)eth...  \n",
       "\n",
       "[1083 rows x 5 columns]"
      ]
     },
     "execution_count": 3,
     "metadata": {},
     "output_type": "execute_result"
    }
   ],
   "source": [
    "import pandas as pd\n",
    "DF = pd.read_csv(\"202207_smip_monset.csv\")\n",
    "DF"
   ]
  },
  {
   "cell_type": "code",
   "execution_count": 1,
   "id": "9cf6bd10-6c5e-4ad3-89e6-e72ad1b0512d",
   "metadata": {},
   "outputs": [
    {
     "name": "stdin",
     "output_type": "stream",
     "text": [
      "Enter first monomer SMILES:  C=C\n",
      "Enter second monomer SMILES:  CC(CN)N\n"
     ]
    },
    {
     "name": "stdout",
     "output_type": "stream",
     "text": [
      "Columns in classified_df: ['SMILES', 'Name', 'smip_cand_mons', 'vinyl', 'epo', 'cOle', 'lactone', 'lactam', 'hydCOOH', 'aminCOOH', 'hindPhenol', 'cAnhyd', 'CO', 'HCHO', 'sfonediX', 'BzodiF', 'diepo', 'diCOOH', 'diol', 'diamin', 'diNCO', 'dicAnhyd', 'pridiamin', 'diol_b']\n",
      "Columns in polymers: ['mon1', 'mon2', 'polym', 'polymer_class', 'Ps_rxnL', 'reactset']\n",
      "\n",
      "Possible polymers:\n",
      "Polymer 1: *CC* (Type: polyolefin)\n"
     ]
    }
   ],
   "source": [
    "from smipoly.smip import monc, polg\n",
    "import pandas as pd\n",
    "\n",
    "DF = pd.read_csv(\"202207_smip_monset.csv\")\n",
    "\n",
    "def polymerize_two_monomers():\n",
    "    monomer1 = input(\"Enter first monomer SMILES: \").strip()\n",
    "    monomer2 = input(\"Enter second monomer SMILES: \").strip()\n",
    "    \n",
    "    df = pd.DataFrame({\n",
    "        'SMILES': [monomer1, monomer2],\n",
    "        'Name': ['Monomer1', 'Monomer2']\n",
    "    })\n",
    "    \n",
    "    classified_df = monc.moncls(df, smiColn='SMILES', dsp_rsl=False)\n",
    "    \n",
    "    # Now using polg.bipolym correctly\n",
    "    print(\"Columns in classified_df:\", classified_df.columns.tolist())\n",
    "    polymers = polg.biplym(classified_df, targ=['all'], Pmode='a', dsp_rsl=False)\n",
    "    print(\"Columns in polymers:\", polymers.columns.tolist())\n",
    "    \n",
    "    if not polymers.empty:\n",
    "        print(\"\\nPossible polymers:\")\n",
    "        for idx, row in polymers.iterrows():\n",
    "            print(f\"Polymer {idx+1}: {row['polym']} (Type: {row['polymer_class']})\")\n",
    "    else:\n",
    "        print(\"No compatible polymers found.\")\n",
    "\n",
    "if __name__ == \"__main__\":\n",
    "    polymerize_two_monomers()\n"
   ]
  },
  {
   "cell_type": "code",
   "execution_count": 5,
   "id": "ddb10e6a-494c-4052-9990-1f9d36e02f4b",
   "metadata": {},
   "outputs": [
    {
     "name": "stdout",
     "output_type": "stream",
     "text": [
      "['__builtins__', '__cached__', '__doc__', '__file__', '__loader__', '__name__', '__package__', '__path__', '__spec__', '__version__', '_version', 'smip']\n"
     ]
    }
   ],
   "source": [
    "import smipoly\n",
    "print(dir(smipoly))\n"
   ]
  },
  {
   "cell_type": "code",
   "execution_count": 6,
   "id": "ec0b2f09-0036-4079-ab7e-c674633a9d38",
   "metadata": {},
   "outputs": [
    {
     "name": "stdout",
     "output_type": "stream",
     "text": [
      "['AllChem', 'Chem', 'Draw', 'Path', 'Ps_rxnL', '__builtins__', '__cached__', '__doc__', '__file__', '__loader__', '__name__', '__package__', '__spec__', 'db_file', 'diene_14', 'exclL', 'exclLg', 'f', 'genc_smi', 'genmol', 'json', 'monL', 'monLg', 'mon_dic', 'mon_dic_inv', 'mon_vals', 'moncls', 'monomer_sel_mfg', 'monomer_sel_pfg', 'np', 'ole_sel_cru', 'olecls', 'os', 'pd', 'pickle', 'rdBase', 'update_nested_dict']\n",
      "['AllChem', 'Chem', 'Path', 'Ps_GenL', 'Ps_classL', 'Ps_rxnL', '__builtins__', '__cached__', '__doc__', '__file__', '__loader__', '__name__', '__package__', '__spec__', 'biplym', 'coord_polym', 'db_file', 'exclL', 'exclLg', 'f', 'genmol', 'itertools', 'json', 'monL', 'monLg', 'mon_dic', 'mon_dic_inv', 'mon_vals', 'np', 'ole_copolym', 'os', 'pd', 'pickle', 'rdBase', 'warnings']\n"
     ]
    }
   ],
   "source": [
    "from smipoly.smip import monc, polg\n",
    "print(dir(monc))\n",
    "print(dir(polg))\n"
   ]
  },
  {
   "cell_type": "code",
   "execution_count": 8,
   "id": "c23a097c-5d70-416a-8ced-401e37ca8e6f",
   "metadata": {},
   "outputs": [
    {
     "name": "stdout",
     "output_type": "stream",
     "text": [
      "['AllChem', 'Chem', 'Draw', 'Path', 'Ps_rxnL', '__builtins__', '__cached__', '__doc__', '__file__', '__loader__', '__name__', '__package__', '__spec__', 'db_file', 'diene_14', 'exclL', 'exclLg', 'f', 'genc_smi', 'genmol', 'json', 'monL', 'monLg', 'mon_dic', 'mon_dic_inv', 'mon_vals', 'moncls', 'monomer_sel_mfg', 'monomer_sel_pfg', 'np', 'ole_sel_cru', 'olecls', 'os', 'pd', 'pickle', 'rdBase', 'update_nested_dict']\n"
     ]
    }
   ],
   "source": [
    "from smipoly.smip import monc\n",
    "print(dir(monc))\n"
   ]
  },
  {
   "cell_type": "code",
   "execution_count": 9,
   "id": "253c45b6-8550-40ba-a263-96425403d552",
   "metadata": {},
   "outputs": [
    {
     "name": "stdout",
     "output_type": "stream",
     "text": [
      "['AllChem', 'Chem', 'Path', 'Ps_GenL', 'Ps_classL', 'Ps_rxnL', '__builtins__', '__cached__', '__doc__', '__file__', '__loader__', '__name__', '__package__', '__spec__', 'biplym', 'coord_polym', 'db_file', 'exclL', 'exclLg', 'f', 'genmol', 'itertools', 'json', 'monL', 'monLg', 'mon_dic', 'mon_dic_inv', 'mon_vals', 'np', 'ole_copolym', 'os', 'pd', 'pickle', 'rdBase', 'warnings']\n"
     ]
    }
   ],
   "source": [
    "from smipoly.smip import polg\n",
    "print(dir(polg))\n"
   ]
  },
  {
   "cell_type": "markdown",
   "id": "422b1ccf-401a-4d3e-8d34-e8e256735fb3",
   "metadata": {},
   "source": []
  }
 ],
 "metadata": {
  "kernelspec": {
   "display_name": "Python_evan_env",
   "language": "python",
   "name": "evan_env"
  },
  "language_info": {
   "codemirror_mode": {
    "name": "ipython",
    "version": 3
   },
   "file_extension": ".py",
   "mimetype": "text/x-python",
   "name": "python",
   "nbconvert_exporter": "python",
   "pygments_lexer": "ipython3",
   "version": "3.12.8"
  }
 },
 "nbformat": 4,
 "nbformat_minor": 5
}
