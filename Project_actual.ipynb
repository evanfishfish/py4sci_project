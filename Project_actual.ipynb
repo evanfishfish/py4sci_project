{
 "cells": [
  {
   "cell_type": "code",
   "execution_count": null,
   "id": "1136255c-c75b-4b33-8b45-a215a8bc3aa3",
   "metadata": {},
   "outputs": [],
   "source": [
    "!git --version"
   ]
  },
  {
   "cell_type": "code",
   "execution_count": null,
   "id": "42bbddac-544d-4a10-bc80-37be97d85964",
   "metadata": {},
   "outputs": [],
   "source": [
    "!git init"
   ]
  },
  {
   "cell_type": "code",
   "execution_count": null,
   "id": "321fdfbb-d29f-439d-b8b7-5edcc2cc4dba",
   "metadata": {},
   "outputs": [],
   "source": [
    "!git remote remove origin\n",
    "\n",
    "!git remote add origin https://github.com/evanfishfish/py4sci_project.git\n"
   ]
  },
  {
   "cell_type": "markdown",
   "id": "b6648db3-70d5-4d47-acf5-180eafe789e8",
   "metadata": {},
   "source": [
    "### Note:\n",
    "The above cells exist to set up future github integration."
   ]
  },
  {
   "cell_type": "markdown",
   "id": "2b4f4905-184f-4b49-b01f-75b847bb9cf1",
   "metadata": {},
   "source": [
    "# What is SMIPoly?"
   ]
  },
  {
   "cell_type": "markdown",
   "id": "00f1ee79-afbf-4f2e-8a92-e9020e6e71a1",
   "metadata": {},
   "source": [
    "SMiPoly (Small Molecules into Polymers) is a Python-based, rule-driven virtual library generator."
   ]
  },
  {
   "cell_type": "markdown",
   "id": "6fe28fd3-c68a-4838-b04d-fa6ad7fcded5",
   "metadata": {},
   "source": [
    "### Now what does this mean?\n",
    "SMIPoly utilizes 22 main 'rules' of polymerization to determine potential structures of polymers based on input criteria."
   ]
  },
  {
   "cell_type": "markdown",
   "id": "51acc7ed-b241-4b2c-835d-bc0ec5729e07",
   "metadata": {},
   "source": [
    "### Polymerization rules\n",
    "| #  | Polymer Class       | Monomer Class 1      | Monomer Class 2         | Reaction Type         | Description/Example Functional Groups                   |\n",
    "|----|---------------------|----------------------|-------------------------|----------------------|---------------------------------------------------------|\n",
    "| 1  | Polyolefin          | Vinyl                | -                       | Addition             | Polymerization of simple olefins (e.g., ethylene)       |\n",
    "| 2  | Polyolefin          | Cyclic olefin        | -                       | Addition             | Polymerization of cyclic olefins                        |\n",
    "| 3  | Polyolefin          | Vinyl                | Vinyl                   | Addition             | Copolymerization of two vinyl monomers                  |\n",
    "| 4  | Polyolefin          | Vinyl                | Cyclic olefin           | Addition             | Copolymerization of vinyl and cyclic olefin             |\n",
    "| 5  | Polyolefin          | Cyclic olefin        | Cyclic olefin           | Addition             | Copolymerization of two cyclic olefins                  |\n",
    "| 6  | Polyolefin          | Vinyl                | -                       | Ring-opening         | Ring-opening polymerization of vinyl monomers           |\n",
    "| 7  | Polyolefin          | Cyclic olefin        | -                       | Ring-opening         | Ring-opening polymerization of cyclic olefins           |\n",
    "| 8  | Polyester           | Diol                 | Diacid (or equivalent)  | Polycondensation     | Esterification (e.g., diol + diacid)                    |\n",
    "| 9  | Polyester           | Hydroxy acid         | -                       | Polycondensation     | Self-condensation of hydroxy acid                       |\n",
    "| 10 | Polyester           | Diol                 | Phosgene (or equivalent)| Polycondensation     | Diol + phosgene (polycarbonate synthesis)               |\n",
    "| 11 | Polyester           | Diol                 | Diester                 | Polycondensation     | Diol + diester                                          |\n",
    "| 12 | Polyether           | Diol                 | -                       | Polycondensation     | Self-condensation of diol                               |\n",
    "| 13 | Polyamide           | Diamine              | Diacid (or equivalent)  | Polycondensation     | Diamine + diacid (amide formation)                      |\n",
    "| 14 | Polyamide           | Amino acid           | -                       | Polycondensation     | Self-condensation of amino acid                         |\n",
    "| 15 | Polyamide           | Diamine              | Diester                 | Polycondensation     | Diamine + diester                                       |\n",
    "| 16 | Polyimide           | Dianhydride          | Diamine                 | Polycondensation     | Dianhydride + diamine                                   |\n",
    "| 17 | Polyurethane        | Diol                 | Diisocyanate            | Polyaddition         | Diol + diisocyanate                                     |\n",
    "| 18 | Polyurethane        | Diamine              | Diisocyanate            | Polyaddition         | Diamine + diisocyanate                                  |\n",
    "| 19 | Polyoxazolidone     | Di/polyepoxide       | Di/polyisocyanate       | Polyaddition         | Epoxide + isocyanate                                    |\n",
    "| 20 | Polyether           | Epoxide              | -                       | Ring-opening         | Ring-opening polymerization of epoxides                 |\n",
    "| 21 | Polyethersulfone    | Bisphenol            | Dichlorodiphenyl sulfone| Polycondensation     | Bisphenol + dichlorodiphenyl sulfone                   |\n",
    "| 22 | Polyetherketone     | Bisphenol            | Dichlorobenzophenone    | Polycondensation     | Bisphenol + dichlorobenzophenone                       |\n"
   ]
  },
  {
   "cell_type": "markdown",
   "id": "f87e5964-7ad7-488c-894f-233da7bf64bd",
   "metadata": {},
   "source": [
    "## SMIPoly has two main functions: monc and polg."
   ]
  },
  {
   "cell_type": "markdown",
   "id": "ba9930b5-4675-4dc3-b7dc-0be3125de2c6",
   "metadata": {},
   "source": [
    "#### monc.py \n",
    "Classifies monomers based on their functional groups."
   ]
  },
  {
   "cell_type": "markdown",
   "id": "33c98678-5dab-4829-9946-65a72f9c461e",
   "metadata": {},
   "source": [
    "## Smiles: \n",
    "Simplified Molecular Input Line Entry System"
   ]
  },
  {
   "cell_type": "code",
   "execution_count": null,
   "id": "231e7c17-b3ee-4c41-9374-81257cc9e1fe",
   "metadata": {},
   "outputs": [],
   "source": [
    "import pandas as pd\n",
    "DF = pd.read_csv(\"https://raw.githubusercontent.com/evanfishfish/py4sci_project/refs/heads/main/202207_smip_monset.csv\")\n",
    "DF"
   ]
  },
  {
   "cell_type": "markdown",
   "id": "f1a8ea3f-a2a7-4c1b-833b-8866c7149de3",
   "metadata": {},
   "source": [
    "| Classification | Description                                                                                 | Examples / Notes                              |\n",
    "|----------------|---------------------------------------------------------------------------------------------|-----------------------------------------------|\n",
    "| **Vinyl**      | Contains C=C double bonds for addition (chain) polymerization                              | Ethylene, Styrene                             |\n",
    "| **Epo**        | Epoxide groups (three-membered cyclic ethers)                                             | Epichlorohydrin                              |\n",
    "| **cOle**       | Cyclic olefins with ring-strained double bonds                                            | Norbornene                                   |\n",
    "| **Lactone**    | Cyclic esters suitable for ring-opening polymerization                                    | ε-Caprolactone                               |\n",
    "| **Lactam**     | Cyclic amides used in ring-opening polymerization                                         | Caprolactam                                  |\n",
    "| **hydCOOH**    | Hydroxy carboxylic acids (monomers with both -OH and -COOH groups)                        | 6-Hydroxyhexanoic acid                       |\n",
    "| **aminCOOH**   | Amino acids (monomers with both -NH₂ and -COOH groups)                                   | Glycine, Alanine                             |\n",
    "| **hindPhenol** | Sterically hindered phenols, often bisphenol analogs                                     | Bisphenol A                                  |\n",
    "| **cAnhyd**     | Cyclic carboxylic acid anhydrides                                                        | Phthalic anhydride                           |\n",
    "| **CO**         | Carbon monoxide (used in coordination polymerization or carbonyl-containing monomers)     | Context-specific                             |\n",
    "| **HCHO**       | Formaldehyde (used in phenolic/formaldehyde resins)                                      | Phenol-formaldehyde resins                    |\n",
    "| **sfonediX**   | Bis(p-halogenated aryl) sulfones (X = halogen)                                           | Bis(4-fluorophenyl) sulfone                   |\n",
    "| **BzodiF**     | Bis(p-fluoroaryl) ketones                                                                | Aromatic ketones with fluorine substituents  |\n",
    "| **diepo**      | Di- or poly-epoxides                                                                     | Diglycidyl ether of bisphenol A (DGEBA)      |\n",
    "| **diCOOH**     | Di- or poly-carboxylic acids                                                             | Terephthalic acid                            |\n",
    "| **diol**       | Di- or poly-hydroxyl compounds (polyols)                                                 | Ethylene glycol, Glycerol                     |\n",
    "| **diamin**     | Di- or poly-amines                                                                       | Hexamethylenediamine                         |\n",
    "| **diNCO**      | Di- or poly-isocyanates                                                                  | Toluene diisocyanate (TDI)                    |\n",
    "| **dicAnhyd**   | Di- or poly-cyclic carboxylic acid anhydrides                                           | Pyromellitic dianhydride                      |\n",
    "| **pridiamin**  | Primary di- or poly-amines (specific subclass of diamin)                                | Primary diamines                              |\n",
    "| **diol_b**     | Di- or poly-hydroxyl compounds excluding thiols                                         | Typical polyols without sulfur                |\n"
   ]
  },
  {
   "cell_type": "code",
   "execution_count": null,
   "id": "3cb281ae-63ee-4861-88f3-d6673aaf860b",
   "metadata": {},
   "outputs": [],
   "source": [
    "from smipoly.smip import monc\n",
    "\n",
    "DF_class = monc.moncls(df=DF, smiColn='SMILES', dsp_rsl=True)"
   ]
  },
  {
   "cell_type": "markdown",
   "id": "325e3349-7a74-4e52-b5f9-dceabdad07b2",
   "metadata": {},
   "source": [
    "This will list the number of each classification found in the dataframe."
   ]
  },
  {
   "cell_type": "code",
   "execution_count": null,
   "id": "b944bb5b-0973-4f0c-932c-b188586c5d0b",
   "metadata": {},
   "outputs": [],
   "source": [
    "DF_class"
   ]
  },
  {
   "cell_type": "markdown",
   "id": "2dba3fbb-3f38-4312-86ea-8a536d2aaa24",
   "metadata": {},
   "source": [
    "This now adds the columns for each classification and True/False statements indication whether each monomer belongs to said classification."
   ]
  },
  {
   "cell_type": "code",
   "execution_count": null,
   "id": "662a47b8-da74-49ba-8ce8-29e681e213e2",
   "metadata": {},
   "outputs": [],
   "source": [
    "DF_class.to_csv('DF_class.csv', index=False)\n",
    "\n",
    "!git add DF_class.csv\n",
    "!git commit -m \"class_stuff\"\n",
    "!git push -u origin main --force"
   ]
  },
  {
   "cell_type": "markdown",
   "id": "a0fbf488-e69d-4d9e-95b6-bffaa000f5e0",
   "metadata": {},
   "source": [
    "This will ocnvert the dataframe to a csv file and upload it directly to my Github!"
   ]
  },
  {
   "cell_type": "code",
   "execution_count": null,
   "id": "32810fdb-a722-46fa-bff6-8ba979ce9f41",
   "metadata": {},
   "outputs": [],
   "source": [
    "DF_class_indexed = DF_class.set_index ('SMILES')\n",
    "DF_class_indexed"
   ]
  },
  {
   "cell_type": "markdown",
   "id": "fe2b4b19-0788-490f-86ed-16784b6beedc",
   "metadata": {},
   "source": [
    "A lot of the things used in this operation require SMILES, so I set the index to the SMILES column."
   ]
  },
  {
   "cell_type": "code",
   "execution_count": null,
   "id": "4d4a3e9a-99cc-41f0-b379-734455d153fd",
   "metadata": {},
   "outputs": [],
   "source": [
    "DF_class_indexed.to_csv('DF_class_indexed.csv', index=False)\n",
    "\n",
    "\n",
    "!git add DF_class_indexed.csv\n",
    "!git commit -m \"midpoint_stuff_1\"\n",
    "!git push -u origin main --force"
   ]
  },
  {
   "cell_type": "markdown",
   "id": "2f59333f-6973-4fad-aff9-0c922cf408ae",
   "metadata": {},
   "source": [
    "Once again changed to a csv and uploaded."
   ]
  },
  {
   "cell_type": "code",
   "execution_count": null,
   "id": "dbc9f602-e187-4eb1-b2ed-c3dc56235ac1",
   "metadata": {},
   "outputs": [],
   "source": [
    "DF_class_indexed_bool = DF_class_indexed.replace({'True': True, 'False': False})\n",
    "DF_class_indexed_bool"
   ]
  },
  {
   "cell_type": "markdown",
   "id": "12c50fb8-aed9-40e6-910d-62b4ea9f443c",
   "metadata": {},
   "source": [
    "For my next operation I found that it was registering the True/False statements as strings, so I changed them to boolean."
   ]
  },
  {
   "cell_type": "code",
   "execution_count": null,
   "id": "dfc5a155-7253-4060-84cd-0d6cb80e5fb1",
   "metadata": {},
   "outputs": [],
   "source": [
    "DF_class_indexed_bool.to_csv('DF_class_indexed_bool.csv', index=False)\n",
    "!git add DF_class_indexed_bool.csv\n",
    "!git commit -m \"bool_stuff\"\n",
    "!git push -u origin main --force"
   ]
  },
  {
   "cell_type": "code",
   "execution_count": null,
   "id": "18d35680-f0f6-4629-9b11-0af80e25985a",
   "metadata": {},
   "outputs": [],
   "source": [
    "smiles_input = input(f\"Enter the SMILES string\").strip()\n",
    "\n",
    "if smiles_input in DF_class_indexed_bool.index:\n",
    "    row = DF_class_indexed_bool.loc[smiles_input]\n",
    "    # Use == True instead of is True\n",
    "    true_columns = [col for col in DF_class_indexed.columns if row[col] == True]\n",
    "    if true_columns:\n",
    "        print(f\"Columns with True value for SMILES '{smiles_input}': {true_columns}\")\n",
    "    else:\n",
    "        print(f\"No columns have True value for SMILES '{smiles_input}'.\")\n",
    "else:\n",
    "    print(f\"SMILES '{smiles_input}' not found in the DataFrame index.\")\n"
   ]
  },
  {
   "cell_type": "markdown",
   "id": "d610ac72-8f57-46a7-82b2-1a7b9c0a1f81",
   "metadata": {},
   "source": [
    "Now you can enter a SMILES structure from the dataframe and it will tell you its classification(s)."
   ]
  },
  {
   "cell_type": "markdown",
   "id": "f726f733-85da-43c4-af40-e753ab14e4b0",
   "metadata": {},
   "source": [
    "#### Polg\n",
    "Generates polymer repeating units by applying functional group transformations,"
   ]
  },
  {
   "cell_type": "code",
   "execution_count": null,
   "id": "61ed74fb-62fa-422e-9a50-7d7b25d1e04b",
   "metadata": {},
   "outputs": [],
   "source": [
    "from smipoly.smip import monc, polg\n",
    "import pandas as pd\n",
    "import numpy as np\n",
    "import time"
   ]
  },
  {
   "cell_type": "code",
   "execution_count": null,
   "id": "619c1c53-ce40-4938-af39-0bb2753adc47",
   "metadata": {},
   "outputs": [],
   "source": [
    "from smipoly.smip import monc, polg\n",
    "import pandas as pd\n",
    "\n",
    "DF = pd.read_csv(\"https://raw.githubusercontent.com/evanfishfish/py4sci_project/refs/heads/main/202207_smip_monset.csv\")\n",
    "\n",
    "def polymerize_two_monomers():\n",
    "    monomer1 = input(\"Enter first monomer SMILES: \").strip()\n",
    "    monomer2 = input(\"Enter second monomer SMILES: \").strip()\n",
    "    \n",
    "    df = pd.DataFrame({\n",
    "        'SMILES': [monomer1, monomer2],\n",
    "        'Name': ['Monomer1', 'Monomer2']\n",
    "    })\n",
    "    \n",
    "    classified_df = monc.moncls(df, smiColn='SMILES', dsp_rsl=False)\n",
    "    \n",
    "    polymers = polg.biplym(classified_df, targ=['all'], Pmode='a', dsp_rsl=False)\n",
    "    \n",
    "    if not polymers.empty:\n",
    "        print(\"\\nPossible polymers:\")\n",
    "        for idx, row in polymers.iterrows():\n",
    "            print(f\"Polymer {idx+1}: {row['polym']} (Type: {row['polymer_class']})\")\n",
    "    else:\n",
    "        print(\"No compatible polymers found.\")\n",
    "\n",
    "if __name__ == \"__main__\":\n",
    "    polymerize_two_monomers()"
   ]
  },
  {
   "cell_type": "markdown",
   "id": "26e426a4-2169-4777-8dc8-eec3c383fb39",
   "metadata": {},
   "source": [
    "Firstly, you can enter two monomers and it will tell you the possible polymers that can stem from their reaction, and the classification of the generated polymer(s)."
   ]
  },
  {
   "cell_type": "code",
   "execution_count": null,
   "id": "515772a1-2ebd-48bf-b0f7-f30db6005e4d",
   "metadata": {},
   "outputs": [],
   "source": [
    "from smipoly.smip import monc, polg\n",
    "import pandas as pd\n",
    "from rdkit import Chem\n",
    "from rdkit.Chem import Draw\n",
    "from IPython.display import display  # For Jupyter Notebook rendering\n",
    "\n",
    "def polymerize_and_display():\n",
    "    # Get user input\n",
    "    m1 = input(\"Enter first monomer SMILES: \").strip()\n",
    "    m2 = input(\"Enter second monomer SMILES: \").strip()\n",
    "    \n",
    "    # Create temporary monomer DataFrame\n",
    "    monomer_df = pd.DataFrame({\n",
    "        'SMILES': [m1, m2],\n",
    "        'Name': ['Monomer1', 'Monomer2']\n",
    "    })\n",
    "    \n",
    "    # Classify monomers and generate polymers\n",
    "    classified = monc.moncls(monomer_df, smiColn='SMILES', dsp_rsl=False)\n",
    "    polymers = polg.biplym(classified, targ=['all'], Pmode='a', dsp_rsl=False)\n",
    "    \n",
    "    if not polymers.empty:\n",
    "        print(f\"\\nGenerated {len(polymers)} polymers:\")\n",
    "        for idx, row in polymers.iterrows():\n",
    "            # Extract polymer details\n",
    "            smi = row['polym']          # SMILES string\n",
    "            ptype = row['polymer_class']  # Polymer type\n",
    "            mol = Chem.MolFromSmiles(smi)\n",
    "            \n",
    "            # Print text info\n",
    "            print(f\"\\nPolymer {idx+1}:\")\n",
    "            print(f\"SMILES: {smi}\")\n",
    "            print(f\"Type: {ptype}\")\n",
    "            \n",
    "            # Display structure if valid\n",
    "            if mol:\n",
    "                display(mol)  # Renders molecule in Jupyter Notebook\n",
    "                # For non-Jupyter environments, use:\n",
    "                # Draw.MolToImage(mol, size=(300,300)).show()\n",
    "            else:\n",
    "                print(\"Invalid SMILES - cannot display structure\")\n",
    "            print(\"─\" * 40)\n",
    "    else:\n",
    "        print(\"No polymers generated\")\n",
    "\n",
    "if __name__ == \"__main__\":\n",
    "    polymerize_and_display()\n"
   ]
  },
  {
   "cell_type": "markdown",
   "id": "d81767f6-d811-46b5-b610-6e562269b574",
   "metadata": {},
   "source": [
    "This now displays the mol structure of the generated polymer(s)."
   ]
  },
  {
   "cell_type": "markdown",
   "id": "2d1739a7-a97b-4814-bcad-07a0cd662605",
   "metadata": {},
   "source": [
    "## SKIP NEXT CELL\n",
    "### pls"
   ]
  },
  {
   "cell_type": "code",
   "execution_count": null,
   "id": "47c3d937-697b-49c6-aac0-e3e63da6c56e",
   "metadata": {},
   "outputs": [],
   "source": [
    "tpstart = time.perf_counter()\n",
    "DF_run2 = polg.biplym(df=DF_class_indexed_bool, targ=['polyolefin', ], Pmode='a', dsp_rsl=True)\n",
    "tpend = time.perf_counter()\n",
    "tm = tpend-tpstart\n",
    "print(\"CPU time: \", tm)\n",
    "print(f\"DF_run2 memory usage: {DF_run2.memory_usage(deep=True).sum() / 1024 ** 2} MB\")"
   ]
  },
  {
   "cell_type": "code",
   "execution_count": null,
   "id": "a54b8406-849c-4794-98a2-ad6fc58a12aa",
   "metadata": {},
   "outputs": [],
   "source": [
    "tpstart = time.perf_counter()\n",
    "DF_run1 = polg.biplym(df=DF_class_indexed_bool, targ=['polyether', ], Pmode='a', dsp_rsl=True)\n",
    "tpend = time.perf_counter()\n",
    "tm = tpend-tpstart\n",
    "print(\"CPU time: \", tm)\n",
    "print(f\"DF_run1 memory usage: {DF_run1.memory_usage(deep=True).sum() / 1024 ** 2} MB\")"
   ]
  },
  {
   "cell_type": "markdown",
   "id": "f6b25ff1-9be7-4cf6-9d26-e64271780f65",
   "metadata": {},
   "source": [
    "With this, you can specify a polymer type and it will run the number of reactions required to generate as many of that type as possible from the available monomers."
   ]
  },
  {
   "cell_type": "code",
   "execution_count": null,
   "id": "aaba70e7-71d1-44a3-bd32-80392c64bf18",
   "metadata": {},
   "outputs": [],
   "source": [
    "DF_run1"
   ]
  },
  {
   "cell_type": "code",
   "execution_count": null,
   "id": "cd429300-0442-4777-8952-c7f4a33dc66b",
   "metadata": {},
   "outputs": [],
   "source": [
    "DF_run1.to_csv('DF_run1.csv', columns=['mon1', 'mon2', 'polym', 'polymer_class'], index=False)"
   ]
  },
  {
   "cell_type": "markdown",
   "id": "840c3bd8-4c48-4223-bc4a-df55542149ac",
   "metadata": {},
   "source": [
    "Next, I can pull random structures from this new database using their SMILES structures."
   ]
  },
  {
   "cell_type": "code",
   "execution_count": null,
   "id": "43cfce55-9db8-4922-b0b6-e7b79c358f3a",
   "metadata": {},
   "outputs": [],
   "source": [
    "import random\n",
    "from rdkit import Chem\n",
    "from rdkit.Chem import Draw\n",
    "\n",
    "polyeth_1 = [random.randint(0, 50) for i in range(len(DF_run1))]\n",
    "random_fellas = [Chem.MolFromSmiles(DF_run1.iloc[i, 2]) for i in polyeth_1]\n",
    "Draw.MolsToGridImage(random_fellas,molsPerRow=5, subImgSize=(200,200))"
   ]
  },
  {
   "cell_type": "markdown",
   "id": "39b1b804-5fdb-45a9-a580-543092cd1132",
   "metadata": {},
   "source": [
    "In order to add the SMILES structures to the corresponding mol structures, I had to convert the entries in the polym (SMILES) column from objects to strings."
   ]
  },
  {
   "cell_type": "code",
   "execution_count": null,
   "id": "7c40acf0-9e70-43c7-9c5e-4fd612ef98a2",
   "metadata": {},
   "outputs": [],
   "source": [
    "import pandas as pd\n",
    "\n",
    "print(DF_run1.dtypes)\n"
   ]
  },
  {
   "cell_type": "code",
   "execution_count": null,
   "id": "c649d1f2-0c79-49b5-8164-3d88d19715ce",
   "metadata": {},
   "outputs": [],
   "source": [
    "import pandas as pd\n",
    "\n",
    "DF_run1['polym'] = DF_run1['polym'].astype(\"string\")"
   ]
  },
  {
   "cell_type": "code",
   "execution_count": null,
   "id": "db5a09de-9bcc-4081-8786-235c59a0de32",
   "metadata": {},
   "outputs": [],
   "source": [
    "DF_run1"
   ]
  },
  {
   "cell_type": "code",
   "execution_count": null,
   "id": "6fe2f887-b1d7-42aa-bbec-bf90d934f4ca",
   "metadata": {},
   "outputs": [],
   "source": [
    "print (DF_run1.dtypes)"
   ]
  },
  {
   "cell_type": "code",
   "execution_count": null,
   "id": "ceb73642-a67a-46cc-a469-92f74b4a49bc",
   "metadata": {},
   "outputs": [],
   "source": [
    "import random\n",
    "from rdkit import Chem\n",
    "from rdkit.Chem import Draw\n",
    "\n",
    "polyeth_1 = [random.randint(0, 50) for i in range(len(DF_run1))]\n",
    "random_fellas = [Chem.MolFromSmiles(DF_run1.iloc[i, 2]) for i in polyeth_1]\n",
    "Draw.MolsToGridImage(random_fellas,molsPerRow=5, subImgSize=(200,200))\n",
    "\n",
    "# Get molecules and SMILES strings from the same rows\n",
    "random_fellas = [Chem.MolFromSmiles(DF_run1.iloc[i, 2]) for i in polyeth_1]\n",
    "smiles_legends = [DF_run1.iloc[i, 2] for i in polyeth_1]\n",
    "\n",
    "# Draw with SMILES as legends\n",
    "Draw.MolsToGridImage(random_fellas, molsPerRow=5, subImgSize=(200,200), legends=smiles_legends)"
   ]
  },
  {
   "cell_type": "markdown",
   "id": "de14061c-1ebe-497c-b143-8f4b082e427d",
   "metadata": {},
   "source": [
    "Random.radiant allows for repeat samples, so I switched to random.sample."
   ]
  },
  {
   "cell_type": "code",
   "execution_count": null,
   "id": "a521ef6c-959d-4885-9ffb-96f0db7e9b11",
   "metadata": {},
   "outputs": [],
   "source": [
    "import random\n",
    "from rdkit import Chem\n",
    "from rdkit.Chem import Draw\n",
    "\n",
    "# Ensure you don't sample more than the number of rows in the DataFrame\n",
    "num_samples = 50\n",
    "num_rows = len(DF_run1)\n",
    "if num_samples > num_rows:\n",
    "    raise ValueError(\"num_samples cannot be greater than the number of rows in the DataFrame.\")\n",
    "\n",
    "# Get 50 unique random indices\n",
    "polyeth_1 = random.sample(range(num_rows), num_samples)\n",
    "\n",
    "# Get molecules and SMILES strings from the same rows\n",
    "random_fellas = [Chem.MolFromSmiles(DF_run1.iloc[i, 2]) for i in polyeth_1]\n",
    "smiles_legends = [DF_run1.iloc[i, 2] for i in polyeth_1]\n",
    "\n",
    "# Draw with SMILES as legends\n",
    "Draw.MolsToGridImage(random_fellas, molsPerRow=5, subImgSize=(200,200), legends=smiles_legends)\n"
   ]
  },
  {
   "cell_type": "code",
   "execution_count": null,
   "id": "92dde002-d55a-42ee-8353-0d88ad4c41bb",
   "metadata": {},
   "outputs": [],
   "source": [
    "import random\n",
    "from rdkit import Chem\n",
    "from rdkit.Chem import Draw\n",
    "\n",
    "# Prompt user for the number of samples and convert to int\n",
    "num_samples = int(input('Please enter the number of samples to a max of 50: '))\n",
    "num_rows = len(DF_run1)\n",
    "if num_samples > num_rows:\n",
    "    raise ValueError(\"num_samples cannot be greater than the number of rows in the DataFrame.\")\n",
    "\n",
    "# Get unique random indices\n",
    "polyeth_1 = random.sample(range(num_rows), num_samples)\n",
    "\n",
    "# Get molecules and SMILES strings from the same rows\n",
    "random_fellas = [Chem.MolFromSmiles(DF_run1.iloc[i, 2]) for i in polyeth_1]\n",
    "smiles_legends = [DF_run1.iloc[i, 2] for i in polyeth_1]\n",
    "\n",
    "# Draw with SMILES as legends\n",
    "Draw.MolsToGridImage(random_fellas, molsPerRow=5, subImgSize=(300,300), legends=smiles_legends)\n"
   ]
  },
  {
   "cell_type": "code",
   "execution_count": null,
   "id": "4ed95592-1fca-4b6d-818c-175ed9432a16",
   "metadata": {},
   "outputs": [],
   "source": [
    "import random\n",
    "from rdkit import Chem\n",
    "from rdkit.Chem import Draw\n",
    "\n",
    "# Prompt user for the number of samples and convert to int\n",
    "num_samples = int(input('Please enter the number of samples to a max of 50: '))\n",
    "num_rows = len(DF_run1)\n",
    "if num_samples > num_rows:\n",
    "    raise ValueError(\"num_samples cannot be greater than the number of rows in the DataFrame.\")\n",
    "\n",
    "# Get unique random indices\n",
    "polyeth_1 = random.sample(range(num_rows), num_samples)\n",
    "\n",
    "# Get molecules and SMILES strings from the same rows\n",
    "random_fellas = [Chem.MolFromSmiles(DF_run1.iloc[i, 2]) for i in polyeth_1]\n",
    "smiles_legends = [DF_run1.iloc[i, 2] for i in polyeth_1]\n",
    "\n",
    "# Prompt user for the filename to save the image\n",
    "filename = input(\"Enter the desired filename for the image (e.g., mygrid.png): \")  # <-- NEW LINE\n",
    "\n",
    "# Draw with SMILES as legends and save the image\n",
    "img = Draw.MolsToGridImage(\n",
    "    random_fellas,\n",
    "    molsPerRow=5,\n",
    "    subImgSize=(300, 300),\n",
    "    legends=smiles_legends,\n",
    "    useSVG=False,    # Ensure PIL Image is returned\n",
    "    returnPNG=False\n",
    ")\n",
    "img.save(filename)  # Save with user-provided filename\n",
    "\n",
    "import os\n",
    "\n",
    "os.system(f'git add \"{filename}\"')\n",
    "os.system(f'git commit -m \"Add generated image: {filename}\"')\n",
    "os.system('git push')"
   ]
  },
  {
   "cell_type": "markdown",
   "id": "06d3929b-4bc0-477d-84a9-f5f257181bc6",
   "metadata": {},
   "source": [
    "Now for some copolymer reactions."
   ]
  },
  {
   "cell_type": "code",
   "execution_count": null,
   "id": "32e0cc24-264c-47bd-a9d3-4bc11683407e",
   "metadata": {},
   "outputs": [],
   "source": [
    "#Draw example of generated polymerization reaction\n",
    "pickupNo = int(random.randint(0,len(DF_run1)))\n",
    "print(pickupNo)\n",
    "m1=Chem.MolFromSmiles(DF_run1.iloc[pickupNo,0])\n",
    "m2=Chem.MolFromSmiles(DF_run1.iloc[pickupNo,1])\n",
    "p=Chem.MolFromSmiles(DF_run1.iloc[pickupNo,2])\n",
    "if DF_run1.iloc[pickupNo,1] != '':\n",
    "    L = [m1, m2, p]\n",
    "else:\n",
    "    m2 = Chem.MolFromSmiles('') #None\n",
    "    L = [m1, m2, p]\n",
    "Draw.MolsToGridImage(L,molsPerRow=3, subImgSize=(300,300))"
   ]
  },
  {
   "cell_type": "code",
   "execution_count": null,
   "id": "1b8b293f-f047-474a-9f45-a4cdee94611d",
   "metadata": {},
   "outputs": [],
   "source": [
    "import random\n",
    "from rdkit import Chem\n",
    "from rdkit.Chem import Draw\n",
    "\n",
    "# Pick a random row\n",
    "pickupNo = random.randint(0, len(DF_run1) - 1)\n",
    "print(pickupNo)\n",
    "\n",
    "# Get molecules from SMILES\n",
    "m1 = Chem.MolFromSmiles(DF_run1.iloc[pickupNo, 0])\n",
    "m2 = Chem.MolFromSmiles(DF_run1.iloc[pickupNo, 1])\n",
    "p = Chem.MolFromSmiles(DF_run1.iloc[pickupNo, 2])\n",
    "\n",
    "# Prepare molecule list and corresponding SMILES legends\n",
    "if DF_run1.iloc[pickupNo, 1] != '':\n",
    "    L = [m1, m2, p]\n",
    "    legends = [\n",
    "        Chem.MolToSmiles(m1) if m1 else '',\n",
    "        Chem.MolToSmiles(m2) if m2 else '',\n",
    "        Chem.MolToSmiles(p) if p else ''\n",
    "    ]\n",
    "else:\n",
    "    m2 = None  # More idiomatic than Chem.MolFromSmiles('')\n",
    "    L = [m1, m2, p]\n",
    "    legends = [\n",
    "        Chem.MolToSmiles(m1) if m1 else '',\n",
    "        '',\n",
    "        Chem.MolToSmiles(p) if p else ''\n",
    "    ]\n",
    "\n",
    "# Draw with SMILES as legends\n",
    "Draw.MolsToGridImage(L, molsPerRow=3, subImgSize=(300, 300), legends=legends)\n"
   ]
  },
  {
   "cell_type": "code",
   "execution_count": null,
   "id": "d29b97ce-4a56-4f3c-a87d-52b6b8f5048f",
   "metadata": {},
   "outputs": [],
   "source": [
    "import random\n",
    "from rdkit import Chem\n",
    "from rdkit.Chem import Draw\n",
    "\n",
    "# Prompt user for the number of samples\n",
    "num_samples = int(input(\"Enter the number of reactions to sample: \"))\n",
    "num_rows = len(DF_run1)\n",
    "if num_samples > num_rows:\n",
    "    raise ValueError(\"Number of samples cannot exceed number of rows in the DataFrame.\")\n",
    "\n",
    "# Randomly select unique indices\n",
    "sample_indices = random.sample(range(num_rows), num_samples)\n",
    "\n",
    "# Prepare all molecules and legends for the grid\n",
    "all_mols = []\n",
    "all_legends = []\n",
    "\n",
    "for idx in sample_indices:\n",
    "    m1 = Chem.MolFromSmiles(DF_run1.iloc[idx, 0])\n",
    "    m2 = Chem.MolFromSmiles(DF_run1.iloc[idx, 1])\n",
    "    p = Chem.MolFromSmiles(DF_run1.iloc[idx, 2])\n",
    "    \n",
    "    # Build the molecule list for this reaction\n",
    "    if DF_run1.iloc[idx, 1] != '':\n",
    "        L = [m1, m2, p]\n",
    "        legends = [\n",
    "            Chem.MolToSmiles(m1) if m1 else '',\n",
    "            Chem.MolToSmiles(m2) if m2 else '',\n",
    "            Chem.MolToSmiles(p) if p else ''\n",
    "        ]\n",
    "    else:\n",
    "        m2 = None\n",
    "        L = [m1, m2, p]\n",
    "        legends = [\n",
    "            Chem.MolToSmiles(m1) if m1 else '',\n",
    "            '',\n",
    "            Chem.MolToSmiles(p) if p else ''\n",
    "        ]\n",
    "    all_mols.extend(L)\n",
    "    all_legends.extend(legends)\n",
    "\n",
    "# Draw all reactions in a grid (3 columns per reaction)\n",
    "Draw.MolsToGridImage(\n",
    "    all_mols,\n",
    "    molsPerRow=3,\n",
    "    subImgSize=(300, 300),\n",
    "    legends=all_legends\n",
    ")\n"
   ]
  },
  {
   "cell_type": "code",
   "execution_count": null,
   "id": "6fc815e0-4a28-48cd-ae41-347882bf5db0",
   "metadata": {},
   "outputs": [],
   "source": [
    "import random\n",
    "from rdkit import Chem\n",
    "from rdkit.Chem import Draw\n",
    "\n",
    "# Prompt user for the number of samples\n",
    "num_samples = int(input(\"Enter the number of reactions to sample: \"))\n",
    "num_rows = len(DF_run1)\n",
    "if num_samples > num_rows:\n",
    "    raise ValueError(\"Number of samples cannot exceed number of rows in the DataFrame.\")\n",
    "\n",
    "# Randomly select unique indices\n",
    "sample_indices = random.sample(range(num_rows), num_samples)\n",
    "\n",
    "# Prepare all molecules and legends for the grid\n",
    "all_mols = []\n",
    "all_legends = []\n",
    "\n",
    "for idx in sample_indices:\n",
    "    m1 = Chem.MolFromSmiles(DF_run1.iloc[idx, 0])\n",
    "    m2 = Chem.MolFromSmiles(DF_run1.iloc[idx, 1])\n",
    "    p = Chem.MolFromSmiles(DF_run1.iloc[idx, 2])\n",
    "    \n",
    "    # Build the molecule list for this reaction\n",
    "    if DF_run1.iloc[idx, 1] != '':\n",
    "        L = [m1, m2, p]\n",
    "        legends = [\n",
    "            Chem.MolToSmiles(m1) if m1 else '',\n",
    "            Chem.MolToSmiles(m2) if m2 else '',\n",
    "            Chem.MolToSmiles(p) if p else ''\n",
    "        ]\n",
    "    else:\n",
    "        m2 = None\n",
    "        L = [m1, m2, p]\n",
    "        legends = [\n",
    "            Chem.MolToSmiles(m1) if m1 else '',\n",
    "            '',\n",
    "            Chem.MolToSmiles(p) if p else ''\n",
    "        ]\n",
    "    all_mols.extend(L)\n",
    "    all_legends.extend(legends)\n",
    "\n",
    "# Prompt for filename and ensure valid extension\n",
    "filename = input(\"Enter the desired filename for the image (e.g., reactions.png): \")\n",
    "if not (filename.lower().endswith('.png') or filename.lower().endswith('.jpg') or filename.lower().endswith('.jpeg')):\n",
    "    filename += '.png'  # Default to PNG if no valid extension is provided\n",
    "\n",
    "# Draw all reactions in a grid (3 columns per reaction) and save the image\n",
    "img = Draw.MolsToGridImage(\n",
    "    all_mols,\n",
    "    molsPerRow=3,\n",
    "    subImgSize=(300, 300),\n",
    "    legends=all_legends,\n",
    "    useSVG=False,    # Ensure a PIL Image is returned\n",
    "    returnPNG=False\n",
    ")\n",
    "img.save(filename)\n",
    "print(f\"Image saved as {filename}\")\n",
    "\n",
    "import os\n",
    "\n",
    "os.system(f'git add \"{filename}\"')\n",
    "os.system(f'git commit -m \"Add generated image: {filename}\"')\n",
    "os.system('git push')\n"
   ]
  },
  {
   "cell_type": "code",
   "execution_count": null,
   "id": "acb240ac-69bc-45a0-8425-f7628e543e84",
   "metadata": {},
   "outputs": [],
   "source": []
  }
 ],
 "metadata": {
  "kernelspec": {
   "display_name": "Python_evan_env",
   "language": "python",
   "name": "evan_env"
  },
  "language_info": {
   "codemirror_mode": {
    "name": "ipython",
    "version": 3
   },
   "file_extension": ".py",
   "mimetype": "text/x-python",
   "name": "python",
   "nbconvert_exporter": "python",
   "pygments_lexer": "ipython3",
   "version": "3.12.8"
  }
 },
 "nbformat": 4,
 "nbformat_minor": 5
}
